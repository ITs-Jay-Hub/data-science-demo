{
    "cells": [
        {
            "metadata": {
                "collapsed": true
            },
            "cell_type": "markdown",
            "source": "# My Jupyter Notebook on IBM Watson Studio"
        },
        {
            "metadata": {},
            "cell_type": "markdown",
            "source": "**JAY**\n\n__STUDENT__"
        },
        {
            "metadata": {},
            "cell_type": "markdown",
            "source": "_I am intrested in data science because using that we can visualize data.\nIt helps us in analysing the data and getting are solutions which will help our organization's growth_"
        },
        {
            "metadata": {},
            "cell_type": "markdown",
            "source": "### Performing cube of 2"
        },
        {
            "metadata": {},
            "cell_type": "code",
            "source": "2**3",
            "execution_count": 2,
            "outputs": [
                {
                    "output_type": "execute_result",
                    "execution_count": 2,
                    "data": {
                        "text/plain": "8"
                    },
                    "metadata": {}
                }
            ]
        },
        {
            "metadata": {},
            "cell_type": "markdown",
            "source": "1. Hello there !\n2. This is Jay\n\n- Just a sub list.\n+ Another one\n\n\n\n```python\njay= \"Below is an image and above is a numbered list\"\nprint(jay)\n```\n\n[Time to first hello world](https://www.google.com/search?q=hello+world+pics&rlz=1C1CHWA_arIN740IN741&tbm=isch&source=iu&ictx=1&fir=N0mJNqfmsAKomM%252CmJOSvJbfsXssiM%252C_&vet=1&usg=AI4_-kRGaFl_hwm3nQJZhtq7s_Rx_niung&sa=X&ved=2ahUKEwihiqH4p6LqAhVZyDgGHSTVAAMQ9QEwAHoECAoQIg&biw=1366&bih=657#imgrc=N0mJNqfmsAKomM)\n\n\n>Here just using a _blockquote_ :)"
        },
        {
            "metadata": {},
            "cell_type": "markdown",
            "source": ""
        }
    ],
    "metadata": {
        "kernelspec": {
            "name": "python3",
            "display_name": "Python 3.6",
            "language": "python"
        },
        "language_info": {
            "name": "python",
            "version": "3.6.9",
            "mimetype": "text/x-python",
            "codemirror_mode": {
                "name": "ipython",
                "version": 3
            },
            "pygments_lexer": "ipython3",
            "nbconvert_exporter": "python",
            "file_extension": ".py"
        }
    },
    "nbformat": 4,
    "nbformat_minor": 1
}